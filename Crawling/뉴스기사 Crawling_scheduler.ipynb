{
 "cells": [
  {
   "cell_type": "markdown",
   "id": "d2b30ba8",
   "metadata": {},
   "source": [
    "## 1. 필요 라이브러리 확인 및 설치"
   ]
  },
  {
   "cell_type": "code",
   "execution_count": 1,
   "id": "e46c9bbd",
   "metadata": {},
   "outputs": [],
   "source": [
    "#pip list"
   ]
  },
  {
   "cell_type": "code",
   "execution_count": 2,
   "id": "ed9071ac",
   "metadata": {},
   "outputs": [],
   "source": [
    "#!pip install beautifulsoup4"
   ]
  },
  {
   "cell_type": "markdown",
   "id": "03f647f4",
   "metadata": {},
   "source": [
    "## 2. 뉴스 메인페이지 크롤링"
   ]
  },
  {
   "cell_type": "code",
   "execution_count": 3,
   "id": "402d828b",
   "metadata": {},
   "outputs": [],
   "source": [
    "from urllib.request import urlopen #python 내장 라이브러리\n",
    "import urllib\n",
    "import bs4\n",
    "\n",
    "# 뉴스 main 페이지 가져오기\n",
    "html = urllib.request.urlopen('https://news.naver.com/')\n",
    "bs = bs4.BeautifulSoup(html, 'html.parser')\n",
    "#print(bs)\n",
    "\n",
    "\n",
    "#신문 1면 모아보기\n",
    "asia = bs.findAll('div',{'class':'cjs_headline_t'})\n",
    "for i, txt in enumerate(asia):\n",
    "    print(asia[i].text)"
   ]
  },
  {
   "cell_type": "markdown",
   "id": "7515ca67",
   "metadata": {},
   "source": [
    "## 3. 특정 언론사 및 섹션의 기사 크롤링"
   ]
  },
  {
   "cell_type": "markdown",
   "id": "74d03112",
   "metadata": {},
   "source": [
    "### Crawling scheduler : 16시 21분 10초에 수행"
   ]
  },
  {
   "cell_type": "code",
   "execution_count": 11,
   "id": "9edffe5a",
   "metadata": {},
   "outputs": [
    {
     "name": "stdout",
     "output_type": "stream",
     "text": [
      "Collecting APScheduler\n",
      "  Downloading APScheduler-3.10.1-py3-none-any.whl (59 kB)\n",
      "\u001b[2K     \u001b[90m━━━━━━━━━━━━━━━━━━━━━━━━━━━━━━━━━━━━━━━\u001b[0m \u001b[32m59.2/59.2 kB\u001b[0m \u001b[31m402.1 kB/s\u001b[0m eta \u001b[36m0:00:00\u001b[0ma \u001b[36m0:00:01\u001b[0m\n",
      "\u001b[?25hRequirement already satisfied: six>=1.4.0 in /Users/eunyoung-ko/.pyenv/versions/3.10.6/lib/python3.10/site-packages (from APScheduler) (1.16.0)\n",
      "Collecting tzlocal!=3.*,>=2.0\n",
      "  Downloading tzlocal-4.3-py3-none-any.whl (20 kB)\n",
      "Requirement already satisfied: pytz in /Users/eunyoung-ko/.pyenv/versions/3.10.6/lib/python3.10/site-packages (from APScheduler) (2022.7.1)\n",
      "Requirement already satisfied: setuptools>=0.7 in /Users/eunyoung-ko/.pyenv/versions/3.10.6/lib/python3.10/site-packages (from APScheduler) (63.2.0)\n",
      "Collecting pytz-deprecation-shim\n",
      "  Downloading pytz_deprecation_shim-0.1.0.post0-py2.py3-none-any.whl (15 kB)\n",
      "Collecting tzdata\n",
      "  Downloading tzdata-2023.3-py2.py3-none-any.whl (341 kB)\n",
      "\u001b[2K     \u001b[90m━━━━━━━━━━━━━━━━━━━━━━━━━━━━━━━━━━━━━\u001b[0m \u001b[32m341.8/341.8 kB\u001b[0m \u001b[31m781.4 kB/s\u001b[0m eta \u001b[36m0:00:00\u001b[0m00:01\u001b[0m00:01\u001b[0m\n",
      "\u001b[?25hInstalling collected packages: tzdata, pytz-deprecation-shim, tzlocal, APScheduler\n",
      "Successfully installed APScheduler-3.10.1 pytz-deprecation-shim-0.1.0.post0 tzdata-2023.3 tzlocal-4.3\n",
      "\n",
      "\u001b[1m[\u001b[0m\u001b[34;49mnotice\u001b[0m\u001b[1;39;49m]\u001b[0m\u001b[39;49m A new release of pip is available: \u001b[0m\u001b[31;49m23.0.1\u001b[0m\u001b[39;49m -> \u001b[0m\u001b[32;49m23.1.1\u001b[0m\n",
      "\u001b[1m[\u001b[0m\u001b[34;49mnotice\u001b[0m\u001b[1;39;49m]\u001b[0m\u001b[39;49m To update, run: \u001b[0m\u001b[32;49mpip install --upgrade pip\u001b[0m\n"
     ]
    }
   ],
   "source": [
    "#!pip install APScheduler"
   ]
  },
  {
   "cell_type": "code",
   "execution_count": 74,
   "id": "d526f0ab",
   "metadata": {},
   "outputs": [
    {
     "name": "stdout",
     "output_type": "stream",
     "text": [
      "operation start\n",
      "크롤링 수행시간 : 16시 21분 10초\n",
      "언론사 : 디지털데일리\n",
      "섹션 : IT\n",
      "기자 : 김도현(dobest@ddaily.co.kr)\n",
      "입력일시 :  2023.04.30. 오후 4:36\n",
      "헤드라인 : '1.2조 투자' 천보, 전해질 세대교체 선도…\"中 밀어낸다\" [소부장박대리]\n",
      "부제목   - 군산·충주서 연이어 증설…F전해질 점유율 60% 목표\n",
      "본문 :   - 군산·충주서 연이어 증설…F전해질 점유율 60% 목표   [디지털데일리 김도현 기자] “1분기 부진했지만 올해 연간 매출액이 4000억원을 넘어설 것으로 보인다. 주요 품목 2가지에 대해 획기적 원가절감을 통해 중국과 경쟁에서 이겨낼 것이다.”   30일 이동호 천보 최고재무책임자(CFO)는 이같이 말했다.   천보는 지난 2007년 설립된 회사로 2차전지 소재, 전자 소재, 의약품 등을 다룬다. 이 CFO는 “천보는 정밀화학(파인케미칼) 분야가 메인으로 합성과 정제의 달인”이라며 “생산하는 물질에 대해서는 세계 최초, 독점 등 수식어를 붙여도 부끄럽지 않다. 우리가 판매하는 제품은 점유율 90%, 영업이익률 20% 수준”이라고 밝혔다.   실적에서 가장 큰 비중을 차지하는 건 2차전지 부문이다. 천보는 전해액을 구성하는 전해질염과 전해액 첨가제를 공급한다. 참고로 전해액은 배터리 4대 소재 중 하나로 이온이 원활하게 이동하도록 돕는 매개체다. 양극과 음극을 넘나드는 이온의 통로 역할이다.   전기차 배터리 시장 성장세로 성장 곡선을 그려가던 천보는 올해 1분기 주춤했다. 이 기간 매출 470억원, 영업이익 16억원으로 각각 전년동기대비 50.2%와 90.9% 하락했다.    이 CFO는 “중국 수출이 약 40% 차지하는 데 현지 기업에서 원가 이하로 팔다 보니 일부 따라가다가 영업이익이 크게 깎였다”고 설명했다. CATL 등 중국 배터리 제조사가 단가 인하 정책을 펼친 데 따른 후폭풍이다.    그동안 전해액 첨가제로는 육불화인산리튬(LiPF6)이 많이 쓰였다. 중국에서 주도하던 제품이다. 다만 리튬이온배터리 화재 이슈가 지속 불거지면서 난연성을 갖추고 성능이 뛰어난 F전해질(LiFSI), P전해질(LiPO2F2) 등이 대안으로 떠올랐다. 이들 소재를 처음 개발한 곳이 천보다.   천보에 따르면 F전해질 제조원가 50% 이상 절감 가능한 신규 공정을 개발했고 부산물을 전량 재활용할 수 있도록 했다. P전해질 역시 기존 원재료였던 LiPF6를 사용하지 않고 자체 제조한 저렴한 원료를 사용해 단가를 30% 낮췄다.   F전해질과 P전해질은 기술 및 가격 장벽이 높아 활용도가 높지 않았으나 천보는 공정 전환, 생산성 확보 등을 통해 납품을 본격화하고 있다. 이 CFO는 “몇 년 전부터 F전해질 상용화를 위해 우리 회사 연구원들을 빼가는 등 다양한 시도가 있었으나 다들 실패했다. 그만큼 까다롭고 어렵다. 앞으로 진입 장벽이 높을 것”이라고 이야기했다.   이에 따라 천보는 생산능력(캐파) 확장에 나서고 있다. 군산 새만금에 국가산업단지에 F전해질 신공장을 짓는 중으로 오는 9월부터 가동된다. 회사에서 3분기부터 실적 개선이 기대하는 이유다.   이 CFO는 “F전해질 캐파는 현재 1만톤에서 2025년과 2027년 캐파업을 거쳐 5만톤까지 확장할 것”이라고 언급했다. 해당 산단에는 비닐렌 카보네이트(VC), 플루오르에틸렌 카보네이트(FEC) 등 또 다른 첨가제가 이달부터 양산되고 있다. P전해질 역시 매년 1000톤씩 캐파를 늘려 2027년경 7000톤 캐파를 확보할 예정이다.   이외 다른 소재들까지 더하면 천보는 2027년까지 총 1조2000억원을 투자할 방침이다. 중장기적으로 천보는 F전해질과 P전해질 점유율은 가각 60%, 90% 이상 차지하는 게 목표다.    최근 중국에 이어 국내 배터리 3사까지 리튬인산철(LFP) 배터리 생산을 준비하는 부분은 천보에 긍정적이다. 삼원계 배터리 대비 에너지 밀도가 부족한 LFP 배터리에는 더 많은 전해액 첨가제가 투입되기 때문이다.   향후 미국 인플레이션 감축법(IRA) 등 영향으로 중국 외 시장에서 천보 존재감을 커질 전망이다. IRA에 따르면 전해액은 부품으로 구분되나 전해질염과 첨가제는 광물로 분류됐다. 미국과 자유무역협정(FTA)을 체결한 한국에서 생산해도 된다는 뜻이다. 천보는 해외 공장은 관리가 힘든 만큼 가급적이면 국내 생산 체제를 유지하겠다는 심산이다.   이 CFO는 “중국 매출이 높았던 게 사실이나 이제 북미와 유럽 쪽을 공략할 것”이라며 “중국 경쟁사들이 미국 등 진출이 제한되며 염과 첨가제를 모두 하는 건 천보뿐”이라고 강조했다.   이어 “예정대로 캐파 증대가 진행되면 2025년이면 1조5000억원 매출 규모를 갖출 것이다. 2027년에는 3조원 정도 나와줘야 투자 효과가 제대로 나는 셈”이라고 덧붙였다.   한편 천보는 LG에너지솔루션, 삼성SDI, SK온 등 국내는 물론 CATL BYD 파나소닉 테슬라 등 해외 업체도 고객사로 확보한 상태다.\n"
     ]
    }
   ],
   "source": [
    "from apscheduler.schedulers.blocking import BlockingScheduler #단일스케쥴러\n",
    "from apscheduler.schedulers.background import BackgroundScheduler #다중스케쥴러\n",
    "import time\n",
    "\n",
    "\n",
    "\n",
    "def job1():\n",
    "    print('크롤링 수행시간 :', time.strftime('%H시 %M분 %S초',time.localtime(time.time())))\n",
    "\n",
    "def job2():\n",
    "    #IT_디지털데일리\n",
    "    #1. html 가져오기 \n",
    "    from urllib.request import urlopen\n",
    "\n",
    "    html = urllib.request.urlopen('https://n.news.naver.com/mnews/article/138/0002147555')\n",
    "    bs = bs4.BeautifulSoup(html, 'html.parser')\n",
    "\n",
    "    #2. 파싱작업\n",
    "\n",
    "    #언론사\n",
    "    press = bs.find('img',{'class':'media_end_head_top_logo_img light_type'})\n",
    "    print('언론사 :', press['title'])\n",
    "\n",
    "    #섹션(다중분류시 첫번째 분류 카테고리 채택)\n",
    "    section = bs.find('em',{'class':'media_end_categorize_item'})\n",
    "    print('섹션 :', section.text)\n",
    "\n",
    "\n",
    "    #기자명&이메일\n",
    "    reporter = bs.find('span',{'class','byline_s'})\n",
    "    print('기자 :', reporter.text)\n",
    "\n",
    "\n",
    "    #입력일시\n",
    "    date_time = bs.find('span',{'class':'media_end_head_info_datestamp_time _ARTICLE_DATE_TIME'})\n",
    "    print('입력일시 : ', date_time.text)\n",
    "\n",
    "\n",
    "    #헤드라인\n",
    "    headline1 = bs.find('h2',{'class','media_end_head_headline'})\n",
    "    headline = headline1.find('span').text\n",
    "    print('헤드라인 :',headline)\n",
    "\n",
    "\n",
    "    #부제목\n",
    "    subtitle1 = bs.find('div',{'class','go_trans _article_content'})\n",
    "    subtitle = subtitle1.find('b')\n",
    "    print('부제목', subtitle.text)\n",
    "\n",
    "\n",
    "    #본문 (부제목, 기자명 제거 필요)\n",
    "    content = bs.find('div',{'class','go_trans _article_content'})\n",
    "    content = content.text.replace('\\n', '').replace('\\t', '')\n",
    "    print('본문 :', content )\n",
    "\n",
    "\n",
    "def main():\n",
    "    #scheduler1 = BlockingScheduler()\n",
    "    scheduler2 = BackgroundScheduler()\n",
    "    \n",
    "    scheduler2.add_job(job1, 'cron', hour ='16', minute = '21', second ='10' ,id = \n",
    "                       'test1')\n",
    "    scheduler2.add_job(job2, 'cron', hour ='16', minute = '21',second ='10' ,id = \n",
    "                       'test2')\n",
    "    scheduler2.start()\n",
    "    \n",
    "    \n",
    "print('operation start')\n",
    "\n",
    "\n",
    "if __name__ == \"__main__\":\n",
    "    main()\n",
    "    "
   ]
  },
  {
   "cell_type": "code",
   "execution_count": null,
   "id": "5fe45f2e",
   "metadata": {},
   "outputs": [],
   "source": []
  },
  {
   "cell_type": "code",
   "execution_count": null,
   "id": "d8dd64f5",
   "metadata": {},
   "outputs": [],
   "source": []
  }
 ],
 "metadata": {
  "kernelspec": {
   "display_name": "Python 3 (ipykernel)",
   "language": "python",
   "name": "python3"
  },
  "language_info": {
   "codemirror_mode": {
    "name": "ipython",
    "version": 3
   },
   "file_extension": ".py",
   "mimetype": "text/x-python",
   "name": "python",
   "nbconvert_exporter": "python",
   "pygments_lexer": "ipython3",
   "version": "3.10.6"
  }
 },
 "nbformat": 4,
 "nbformat_minor": 5
}
